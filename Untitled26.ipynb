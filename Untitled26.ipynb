{
  "cells": [
    {
      "cell_type": "markdown",
      "metadata": {
        "id": "view-in-github",
        "colab_type": "text"
      },
      "source": [
        "<a href=\"https://colab.research.google.com/github/dffffd123/Colaboratory/blob/main/Untitled26.ipynb\" target=\"_parent\"><img src=\"https://colab.research.google.com/assets/colab-badge.svg\" alt=\"Open In Colab\"/></a>"
      ]
    },
    {
      "cell_type": "code",
      "execution_count": null,
      "metadata": {
        "colab": {
          "base_uri": "https://localhost:8080/"
        },
        "id": "3e3RQ8L2YZCW",
        "outputId": "74122dd4-c975-44d4-8c10-9528ca939c53"
      },
      "outputs": [
        {
          "output_type": "stream",
          "name": "stdout",
          "text": [
            "Введите число которое больше 20 но меньше 30:21\n",
            "Введите число которое меньше 10 но больше 0:3\n",
            "Введите число которое меньше 10 но больше 0 и при этом не равна второму числу6\n",
            "30\n",
            "378\n",
            "12\n",
            "10.0\n"
          ]
        }
      ],
      "source": [
        "num_1 = input(\"Введите число которое больше 20 но меньше 30:\")\n",
        "if int(num_1) > int(20):\n",
        "  if int(num_1) < int(30):\n",
        "    num_2 = input(\"Введите число которое меньше 10 но больше 0:\")\n",
        "    if int(num_2) > int(0):\n",
        "      if int(num_2) < int(10):\n",
        "        num_3 = input(\"Введите число которое меньше 10 но больше 0 и при этом не равна второму числу\")\n",
        "        if int(num_2) > int(0):\n",
        "          if int(num_2) < int(10):\n",
        "            if int(num_2) == int(num_3):\n",
        "              print(\"Вы ввели неверное число\")\n",
        "            else:\n",
        "              print(int(num_1) + int(num_2) + int(num_3))\n",
        "              print(int(num_1) * int(num_2) * int(num_3))\n",
        "              print(int(num_1) - (int(num_2) + int(num_3)))\n",
        "              print((int(num_1) + int(num_2) + int(num_3)) / int(3))\n",
        "          else:\n",
        "            print(\"Вы ввели неверное число\")\n",
        "        else:\n",
        "          print(\"Вы ввели неверное число\")\n",
        "      else:\n",
        "        print(\"Вы ввели неверное число\")\n",
        "    else:\n",
        "      print(\"Вы ввели неверное число\")\n",
        "  else:\n",
        "    print(\"Вы ввели неверное число\")\n",
        "else:\n",
        "  print(\"Вы ввели неверное число\")"
      ]
    },
    {
      "cell_type": "code",
      "source": [],
      "metadata": {
        "id": "nmplyaeFiAkh"
      },
      "execution_count": null,
      "outputs": []
    }
  ],
  "metadata": {
    "colab": {
      "provenance": [],
      "authorship_tag": "ABX9TyNK0l2HVe0A5iX7InRIViyt",
      "include_colab_link": true
    },
    "kernelspec": {
      "display_name": "Python 3",
      "name": "python3"
    },
    "language_info": {
      "name": "python"
    }
  },
  "nbformat": 4,
  "nbformat_minor": 0
}